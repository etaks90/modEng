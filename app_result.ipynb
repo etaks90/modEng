{
 "cells": [
  {
   "cell_type": "code",
   "execution_count": null,
   "metadata": {},
   "outputs": [],
   "source": [
    "# loading of teh dataframe and the pipeline\n",
    "import pandas as pd\n",
    "import joblib\n",
    "df = pd.read_pickle(r\"in\\df.pkl\")\n",
    "\n",
    "pipeline = joblib.load(r'in\\pipeline.pkl')"
   ]
  },
  {
   "cell_type": "code",
   "execution_count": null,
   "metadata": {},
   "outputs": [],
   "source": [
    "# function function_for_rest_api can be implemented as a rest-endpoint\n",
    "\n",
    "num_cols = [\"amount\", \"previous_attempts\"]\n",
    "cat_cols = [\"country\", \"PSP\", \"3D_secured\", \"card\", \"day_of_week\"]\n",
    "target_col = \"success\"\n",
    "\n",
    "def function_for_rest_api(x):\n",
    "    return pipeline.predict(x)[0]\n",
    "\n",
    "x = df[num_cols + cat_cols].iloc[0].to_frame().T\n",
    "pipeline.predict(x)[0]\n",
    "\n",
    "for i in range(10):\n",
    "    x = df[num_cols + cat_cols].iloc[i].to_frame().T\n",
    "    success_pred = function_for_rest_api(x)\n",
    "    success_true = df[\"success\"].iloc[i]\n",
    "    print(success_pred, success_true)\n"
   ]
  }
 ],
 "metadata": {
  "kernelspec": {
   "display_name": "venv310",
   "language": "python",
   "name": "python3"
  },
  "language_info": {
   "codemirror_mode": {
    "name": "ipython",
    "version": 3
   },
   "file_extension": ".py",
   "mimetype": "text/x-python",
   "name": "python",
   "nbconvert_exporter": "python",
   "pygments_lexer": "ipython3",
   "version": "3.10.5"
  },
  "orig_nbformat": 4
 },
 "nbformat": 4,
 "nbformat_minor": 2
}
